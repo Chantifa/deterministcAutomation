{
  "cells": [
    {
      "cell_type": "markdown",
      "metadata": {
        "id": "view-in-github",
        "colab_type": "text"
      },
      "source": [
        "<a href=\"https://colab.research.google.com/github/Chantifa/deterministcAutomation/blob/main/Table_export_RAMSI.ipynb\" target=\"_parent\"><img src=\"https://colab.research.google.com/assets/colab-badge.svg\" alt=\"Open In Colab\"/></a>"
      ]
    },
    {
      "cell_type": "code",
      "execution_count": null,
      "id": "fffca459",
      "metadata": {
        "id": "fffca459"
      },
      "outputs": [],
      "source": [
        "import pandas as pd\n",
        "import sys\n",
        "import datetime\n",
        "import time\n",
        "from pathlib import Path\n",
        "import json\n",
        "import psycopg2\n",
        "import warnings\n",
        "warnings.filterwarnings('ignore')\n",
        "import cx_Oracle"
      ]
    },
    {
      "cell_type": "markdown",
      "id": "ae26f50d",
      "metadata": {
        "id": "ae26f50d"
      },
      "source": [
        "## SIP"
      ]
    },
    {
      "cell_type": "code",
      "execution_count": null,
      "id": "ff693f1e",
      "metadata": {
        "id": "ff693f1e"
      },
      "outputs": [],
      "source": [
        "#Bitte Pfad anpassen für den Ornder bei dir also u-Nummer auswechseln!\n",
        "path = \"C:/users/u216983/SBB/TBET - Documents/06_VU-104_Prozessautomatisierung_J_K/Automatisierung & Predictive Maintenance im Störungsbereich/CSEM_Exports/\"\n",
        "path_to_json = path+\"pw_sip.json\"\n",
        "\n",
        "with open(path_to_json, \"r\") as handler:\n",
        "    info = json.load(handler)\n",
        "\n",
        "username = info[\"username\"]\n",
        "password = info[\"password\"]\n",
        "service_name = info[\"service_name\"]\n",
        "\n",
        "#jdbc:oracle:thin:@(DESCRIPTION = (ADDRESS_LIST = (FAILOVER = ON) (LOAD_BALANCE = OFF)(ADDRESS = (PROTOCOL = TCP)(HOST = porasbbmgmscan.sbb.ch)(PORT = 1551)) \n",
        "#(ADDRESS = (PROTOCOL = TCP)(HOST = dorasbbmgmscan.sbb.ch oder porasbbmgmscan.sbb.ch)(PORT = 1551))(CONNECT_DATA = (SERVICE_NAME = DWH_PROD)))\n",
        "con_string = \"%s/%s@//SIP2-ODA01-ZK.sbb.ch/%s\"%(username, password, service_name)\n",
        "con = cx_Oracle.connect(con_string)"
      ]
    },
    {
      "cell_type": "code",
      "execution_count": null,
      "id": "8bd8d2b5",
      "metadata": {
        "id": "8bd8d2b5"
      },
      "outputs": [],
      "source": [
        "sip_note = \"SELECT * FROM FORM_SM_WF_NOTIZ_1\"\n",
        "df_sip_notiz = pd.read_sql(sip_note, con) # dataframe SIP2.0 Notiz_1"
      ]
    },
    {
      "cell_type": "code",
      "execution_count": null,
      "id": "a8fc4d68",
      "metadata": {
        "id": "a8fc4d68"
      },
      "outputs": [],
      "source": [
        "df_sip_notiz.to_csv( 'SIP2_FORM_SM_WF_NOTIZ_1.csv', sep = ',',   encoding='utf-8')# write Datefram to csv file"
      ]
    },
    {
      "cell_type": "code",
      "execution_count": null,
      "id": "be58c45f",
      "metadata": {
        "id": "be58c45f"
      },
      "outputs": [],
      "source": [
        "sip_doc = \"SELECT * FROM FORM_SM_DMS_PROCESS_DOC_1\"\n",
        "df_sip_doc = pd.read_sql(sip_doc, con) # dataframe SIP2.0 doc_1"
      ]
    },
    {
      "cell_type": "code",
      "execution_count": null,
      "id": "f07e9bf3",
      "metadata": {
        "id": "f07e9bf3"
      },
      "outputs": [],
      "source": [
        "df_sip_doc.to_csv( 'SIP2_FORM_SM_DMS_PROCESS_DOC_1.csv', sep = ',',   encoding='windows-1252')# write Datefram to csv file"
      ]
    },
    {
      "cell_type": "code",
      "execution_count": null,
      "id": "47ddaccf",
      "metadata": {
        "id": "47ddaccf"
      },
      "outputs": [],
      "source": [
        "sip_worklog = \"SELECT * FROM FORM_SM_WF_FS_WORKLOG_1\"\n",
        "df_sip_worklog = pd.read_sql(sip_worklog, con) # dataframe SIP2.0 worklogs"
      ]
    },
    {
      "cell_type": "code",
      "execution_count": null,
      "id": "52047364",
      "metadata": {
        "id": "52047364"
      },
      "outputs": [],
      "source": [
        "df_sip_worklog.to_csv( 'SIP2_FORM_SM_WF_FS_WORKLOG_1.csv', sep = ',',   encoding='utf-8')# write Datefram to csv file"
      ]
    },
    {
      "cell_type": "code",
      "execution_count": null,
      "id": "0a438819",
      "metadata": {
        "id": "0a438819"
      },
      "outputs": [],
      "source": [
        "sip_action_notiz = \"SELECT * FROM FORM_SM_WF_ACTION_NOTIZ_1\"\n",
        "df_sip_order_notiz = pd.read_sql(sip_order_notiz, con) # dataframe SIP2.0 order note1"
      ]
    },
    {
      "cell_type": "code",
      "execution_count": null,
      "id": "d0b7421a",
      "metadata": {
        "id": "d0b7421a"
      },
      "outputs": [],
      "source": [
        "df_sip_action_notiz.to_csv( 'SIP2_FORM_SM_WF_ACTION_NOTIZ_1.csv', sep = ',',   encoding='windows-1252')# write Datefram to csv file"
      ]
    },
    {
      "cell_type": "code",
      "execution_count": null,
      "id": "057f44a3",
      "metadata": {
        "id": "057f44a3"
      },
      "outputs": [],
      "source": [
        "sip_order = \"SELECT * FROM FORM_SM_WF_ORDER_1\"\n",
        "df_sip_order = pd.read_sql(sip_order, con) # dataframe SIP2.0 order note1"
      ]
    },
    {
      "cell_type": "code",
      "execution_count": null,
      "id": "42f6ab34",
      "metadata": {
        "id": "42f6ab34"
      },
      "outputs": [],
      "source": [
        "df_sip_order.to_csv( 'SIP2_FORM_SM_WF_ORDER_1.csv', sep = ',',   encoding='windows-1252')# write Datefram to csv file"
      ]
    },
    {
      "cell_type": "code",
      "execution_count": null,
      "id": "338947f8",
      "metadata": {
        "id": "338947f8"
      },
      "outputs": [],
      "source": [
        "sip_order_team = \"SELECT * FROM FORM_SM_DMS_TEAM_HITLIST_1\"\n",
        "df_sip_order_team = pd.read_sql(sip_order_team, con) # dataframe SIP2.0 order team"
      ]
    },
    {
      "cell_type": "code",
      "execution_count": null,
      "id": "a5a04093",
      "metadata": {
        "id": "a5a04093"
      },
      "outputs": [],
      "source": [
        "df_sip_order_team.to_csv( 'SIP2_FORM_SM_DMS_TEAM_HITLIST_1.csv', sep = ',', encoding='windows-1252')# write Datefram to csv file"
      ]
    },
    {
      "cell_type": "code",
      "execution_count": null,
      "id": "64beefbd",
      "metadata": {
        "id": "64beefbd"
      },
      "outputs": [],
      "source": [
        "sip_order_operatingpoint = \"SELECT * FROM FORM_SBB_DMS_OPERATINGPOINT_1\"\n",
        "df_sip_order_operatingpoint = pd.read_sql(sip_order_operatingpoint, con) # dataframe SIP2.0 order team"
      ]
    },
    {
      "cell_type": "code",
      "execution_count": null,
      "id": "7a1cf8e0",
      "metadata": {
        "id": "7a1cf8e0"
      },
      "outputs": [],
      "source": [
        "df_sip_order_operatingpoint.to_csv( 'SIP2_FORM_SBB_DMS_OPERATINGPOINT_1.csv', sep = ',', encoding='windows-1252')# write Datefram to csv file"
      ]
    },
    {
      "cell_type": "markdown",
      "id": "8a2e90e5",
      "metadata": {
        "id": "8a2e90e5"
      },
      "source": [
        "### RAMSI DB"
      ]
    },
    {
      "cell_type": "code",
      "execution_count": null,
      "id": "24640902",
      "metadata": {
        "id": "24640902"
      },
      "outputs": [],
      "source": [
        "#Verbindung PostgreSql\n",
        "path = \"C:/users/u216983/SBB/TBET - Documents/06_VU-104_Prozessautomatisierung_J_K/Automatisierung & Predictive Maintenance im Störungsbereich/CSEM_Exports/\"\n",
        "path_to_json = path+\"pw_postgresql.json\"\n",
        "\n",
        "with open(path_to_json, \"r\") as handler:\n",
        "    info = json.load(handler)\n",
        "\n",
        "    username = info[\"username\"]\n",
        "    password = info[\"password\"]\n",
        "    host = info[\"host\"]\n",
        "    database = info[\"db\"]\n",
        "    \n",
        "#establishing the connection\n",
        "\n",
        "con = psycopg2.connect(host=host, database=database ,user=username, password=password)\n",
        "#Creating a cursor object using the cursor() method\n",
        "cur = con.cursor()"
      ]
    },
    {
      "cell_type": "markdown",
      "id": "21935624",
      "metadata": {
        "id": "21935624"
      },
      "source": [
        "#### Table RAMSI_LOADING.FAKT_SIP_TICKET"
      ]
    },
    {
      "cell_type": "code",
      "execution_count": null,
      "id": "ef3ee3fa",
      "metadata": {
        "id": "ef3ee3fa"
      },
      "outputs": [],
      "source": [
        "sip_ticket = cur.execute(\"SELECT * FROM RAMSI_LOADING.FAKT_SIP_TICKET WHERE C_PROCESSID NOT LIKE 'D%'\") # \n",
        "data = cur.fetchall()\n",
        "cols = []\n",
        "for elt in cur.description:\n",
        "    cols.append(elt[0])\n",
        "    \n",
        "df_sip = pd.DataFrame(data=data, columns=cols) # dataframe SIP Ticket Tabelle"
      ]
    },
    {
      "cell_type": "code",
      "execution_count": null,
      "id": "92fae57d",
      "metadata": {
        "id": "92fae57d"
      },
      "outputs": [],
      "source": [
        "df_sip.to_csv( 'RAMSI_LOADING_FAKT_SIP_TICKETS.csv', sep = ',', encoding='UTF-8')# write Datefram to csv file"
      ]
    },
    {
      "cell_type": "markdown",
      "id": "d88f368b",
      "metadata": {
        "id": "d88f368b"
      },
      "source": [
        "#### Table RAMSI_LOADING.FAKT_SIP_WORKLOGS"
      ]
    },
    {
      "cell_type": "code",
      "execution_count": null,
      "id": "3fa118aa",
      "metadata": {
        "id": "3fa118aa"
      },
      "outputs": [],
      "source": [
        "worklogs = cur.execute(\"SELECT * FROM RAMSI_LOADING.FAKT_SIP_WORKLOGS\")\n",
        "data = cur.fetchall()\n",
        "cols = []\n",
        "for elt in cur.description:\n",
        "    cols.append(elt[0])\n",
        "    \n",
        "df_fs_to_sip =pd.DataFrame(data=data, columns=cols) # dataframe foreign system to SIP"
      ]
    },
    {
      "cell_type": "code",
      "execution_count": null,
      "id": "82d05ed7",
      "metadata": {
        "id": "82d05ed7"
      },
      "outputs": [],
      "source": [
        "df_fs_to_sip.to_csv( 'RAMSI_LOADING_FAKT_SIP_WORKLOGS.csv', sep = ',', encoding='utf-8')# write Datefram to csv file"
      ]
    },
    {
      "cell_type": "markdown",
      "id": "38d33ae9",
      "metadata": {
        "id": "38d33ae9"
      },
      "source": [
        "#### Table RAMSI_LOADING.FAKT_SIP_EINGRIFFE"
      ]
    },
    {
      "cell_type": "code",
      "execution_count": null,
      "id": "dadd4be4",
      "metadata": {
        "id": "dadd4be4"
      },
      "outputs": [],
      "source": [
        "eingriffe = cur.execute(\"SELECT * FROM RAMSI_LOADING.FAKT_SIP_EINGRIFFE\")\n",
        "d = cur.fetchall()\n",
        "cols = []\n",
        "for elt in cur.description:\n",
        "    cols.append(elt[0])\n",
        "df_sip_eingriffe = pd.DataFrame(d, columns=cols) # dataframe SIP Eingriffe"
      ]
    },
    {
      "cell_type": "code",
      "execution_count": null,
      "id": "f90693fd",
      "metadata": {
        "id": "f90693fd"
      },
      "outputs": [],
      "source": [
        "df_sip_eingriffe.to_csv('RAMSI_LOADING_FAKT_SIP_EINGRIFFE.csv',sep = ',', encoding='utf-8')# write Datefram to csv file"
      ]
    },
    {
      "cell_type": "markdown",
      "id": "13c05061",
      "metadata": {
        "id": "13c05061"
      },
      "source": [
        "#### Table RAMSI_LOADING.DIM_BETRIEBSPUNKT"
      ]
    },
    {
      "cell_type": "code",
      "execution_count": null,
      "id": "86704a22",
      "metadata": {
        "id": "86704a22"
      },
      "outputs": [],
      "source": [
        "operational_location = cur.execute(\"SELECT * FROM RAMSI_LOADING.DIM_BETRIEBSPUNKT\")\n",
        "data = cur.fetchall()\n",
        "cols = []\n",
        "for elt in cur.description:\n",
        "    cols.append(elt[0])\n",
        "df_sip_bp = pd.DataFrame(data=data, columns=cols) # dataframe Operational Points Table DIM_BETRIEBSPUNKT (inventory tool)"
      ]
    },
    {
      "cell_type": "code",
      "execution_count": null,
      "id": "e16f004f",
      "metadata": {
        "id": "e16f004f"
      },
      "outputs": [],
      "source": [
        "df_sip_bp.to_csv('RAMSI_LOADING_DIM_BP.csv',sep = ',', encoding='windows-1252')# write Datefram to csv file"
      ]
    },
    {
      "cell_type": "markdown",
      "id": "59faa02e",
      "metadata": {
        "id": "59faa02e"
      },
      "source": [
        "#### Table RAMSI_LOADING.DIM_FOREIGN_SYSTEM"
      ]
    },
    {
      "cell_type": "code",
      "execution_count": null,
      "id": "8449db2f",
      "metadata": {
        "id": "8449db2f"
      },
      "outputs": [],
      "source": [
        "foreign_system = cur.execute(\"SELECT * FROM RAMSI_LOADING.DIM_FOREIGN_SYSTEM\")\n",
        "data = cur.fetchall()\n",
        "cols = []\n",
        "for elt in cur.description:\n",
        "    cols.append(elt[0])\n",
        "df_dim_fs = pd.DataFrame(data=data, columns=cols) # dataframe Table foreign system from dim (inventory tool)"
      ]
    },
    {
      "cell_type": "code",
      "execution_count": null,
      "id": "0bbf773b",
      "metadata": {
        "id": "0bbf773b"
      },
      "outputs": [],
      "source": [
        "df_dim_fs.to_csv('RAMSI_LOADING_DIM_FOREIGN_SYSTEM.csv',sep = ',', encoding='windows-1252')# write Datefram to csv file"
      ]
    },
    {
      "cell_type": "markdown",
      "id": "b99bceb6",
      "metadata": {
        "id": "b99bceb6"
      },
      "source": [
        "#### Table RAMSI_LOADING.DIM_SOLUTION"
      ]
    },
    {
      "cell_type": "code",
      "execution_count": null,
      "id": "eae67d76",
      "metadata": {
        "id": "eae67d76"
      },
      "outputs": [],
      "source": [
        "dim_solution = cur.execute(\"SELECT * FROM RAMSI_LOADING.DIM_SOLUTION\")\n",
        "data = cur.fetchall()\n",
        "cols = []\n",
        "for elt in cur.description:\n",
        "    cols.append(elt[0])\n",
        "df_dim_solution = pd.DataFrame(data=data, columns=cols) # dataframe Table dim_solution from dim (inventory tool)"
      ]
    },
    {
      "cell_type": "code",
      "execution_count": null,
      "id": "100b9141",
      "metadata": {
        "id": "100b9141"
      },
      "outputs": [],
      "source": [
        "df_dim_solution.to_csv('RAMSI_LOADING_DIM_SOLUTION.csv',sep = ',', encoding='windows-1252')# write Datefram to csv file"
      ]
    },
    {
      "cell_type": "markdown",
      "id": "4bdeecb7",
      "metadata": {
        "id": "4bdeecb7"
      },
      "source": [
        "#### Table RAMSI_LOADING.DIM_DIENSTSTELLE"
      ]
    },
    {
      "cell_type": "code",
      "execution_count": null,
      "id": "8a9842fe",
      "metadata": {
        "id": "8a9842fe"
      },
      "outputs": [],
      "source": [
        "dim_dienststelle = cur.execute(\"SELECT * FROM RAMSI_LOADING.DIM_DIENSTSTELLE\")\n",
        "data = cur.fetchall()\n",
        "cols = []\n",
        "for elt in cur.description:\n",
        "    cols.append(elt[0])\n",
        "df_dim_dienststelle = pd.DataFrame(data=data, columns=cols) # dataframe Table dim_dienststelle from dim (inventory tool)"
      ]
    },
    {
      "cell_type": "code",
      "execution_count": null,
      "id": "cdf1065b",
      "metadata": {
        "id": "cdf1065b"
      },
      "outputs": [],
      "source": [
        "df_dim_dienststelle.to_csv('RAMSI_LOADING_DIM_DIENSTSTELLE.csv',sep = ',', encoding='windows-1252')# write Datefram to csv file"
      ]
    },
    {
      "cell_type": "markdown",
      "id": "ac778a06",
      "metadata": {
        "id": "ac778a06"
      },
      "source": [
        "#### Table RAMSI_LOADING.DIM_MEASURE_1"
      ]
    },
    {
      "cell_type": "code",
      "execution_count": null,
      "id": "70baeb2b",
      "metadata": {
        "id": "70baeb2b"
      },
      "outputs": [],
      "source": [
        "dim_measure_1 = cur.execute(\"SELECT * FROM RAMSI_LOADING.DIM_MEASURE_1\")\n",
        "data = cur.fetchall()\n",
        "cols = []\n",
        "for elt in cur.description:\n",
        "    cols.append(elt[0])\n",
        "df_dim_measure_1 = pd.DataFrame(data=data, columns=cols) # dataframe Table dim_measure_1 from dim (inventory tool)"
      ]
    },
    {
      "cell_type": "code",
      "execution_count": null,
      "id": "74342fc4",
      "metadata": {
        "id": "74342fc4"
      },
      "outputs": [],
      "source": [
        "df_dim_measure_1.to_csv('RAMSI_LOADING_DIM_MEASURE_1.csv',sep = ',', encoding='windows-1252') # write Datefram to csv file"
      ]
    },
    {
      "cell_type": "markdown",
      "id": "a27e136d",
      "metadata": {
        "id": "a27e136d"
      },
      "source": [
        "#### Table RAMSI_LOADING.DIM_MEASURE_2"
      ]
    },
    {
      "cell_type": "code",
      "execution_count": null,
      "id": "43f7e8cd",
      "metadata": {
        "id": "43f7e8cd"
      },
      "outputs": [],
      "source": [
        "dim_measure_2 = cur.execute(\"SELECT * FROM RAMSI_LOADING.DIM_MEASURE_2\")\n",
        "data = cur.fetchall()\n",
        "cols = []\n",
        "for elt in cur.description:\n",
        "    cols.append(elt[0])\n",
        "df_dim_measure_2 = pd.DataFrame(data=data, columns=cols) # dataframe Table dim_measure_2 from dim (inventory tool)"
      ]
    },
    {
      "cell_type": "code",
      "execution_count": null,
      "id": "d1527ff5",
      "metadata": {
        "id": "d1527ff5"
      },
      "outputs": [],
      "source": [
        "df_dim_measure_2.to_csv('RAMSI_LOADING_DIM_MEASURE_2.csv',sep = ',', encoding='windows-1252') # write Datefram to csv file"
      ]
    },
    {
      "cell_type": "markdown",
      "id": "b45f28d2",
      "metadata": {
        "id": "b45f28d2"
      },
      "source": [
        "#### Table RAMSI_LOADING.DIM_MEASURE_3"
      ]
    },
    {
      "cell_type": "code",
      "execution_count": null,
      "id": "3b715284",
      "metadata": {
        "id": "3b715284"
      },
      "outputs": [],
      "source": [
        "dim_measure_3 = cur.execute(\"SELECT * FROM RAMSI_LOADING.DIM_MEASURE_3\")\n",
        "data = cur.fetchall()\n",
        "cols = []\n",
        "for elt in cur.description:\n",
        "    cols.append(elt[0])\n",
        "df_dim_measure_3 = pd.DataFrame(data=data, columns=cols) # dataframe Table dim_measure_2 from dim (inventory tool)"
      ]
    },
    {
      "cell_type": "code",
      "execution_count": null,
      "id": "8e2006f1",
      "metadata": {
        "id": "8e2006f1"
      },
      "outputs": [],
      "source": [
        "df_dim_measure_3.to_csv('RAMSI_LOADING_DIM_MEASURE_3.csv',sep = ',', encoding='windows-1252') # write Datefram to csv file"
      ]
    },
    {
      "cell_type": "markdown",
      "id": "318d5fc5",
      "metadata": {
        "id": "318d5fc5"
      },
      "source": [
        "#### Table RAMSI_LOADING.FAKT_ESQ_EREIGNIS"
      ]
    },
    {
      "cell_type": "code",
      "execution_count": null,
      "id": "c832779d",
      "metadata": {
        "id": "c832779d"
      },
      "outputs": [],
      "source": [
        "ereignis = cur.execute(\"SELECT * FROM RAMSI_LOADING.FAKT_ESQ_EREIGNIS\")\n",
        "data = cur.fetchall()\n",
        "cols = []\n",
        "for elt in cur.description:\n",
        "    cols.append(elt[0])\n",
        "df_esq_ereignis = pd.DataFrame(data=data, columns=cols) # Datafram Table ESQ Ereignis "
      ]
    },
    {
      "cell_type": "code",
      "execution_count": null,
      "id": "72c374c8",
      "metadata": {
        "id": "72c374c8"
      },
      "outputs": [],
      "source": [
        "df_esq_ereignis.to_csv('RAMSI_LOADING_FAKT_ESQ_EREIGNIS.csv',sep = ',',encoding='windows-1252') # write Datefram to csv file"
      ]
    },
    {
      "cell_type": "markdown",
      "id": "18fb0b29",
      "metadata": {
        "id": "18fb0b29"
      },
      "source": [
        "#### Table RAMSI_LOADING.DIM_INVENTORYOBJECT"
      ]
    },
    {
      "cell_type": "code",
      "execution_count": null,
      "id": "69b0213e",
      "metadata": {
        "id": "69b0213e"
      },
      "outputs": [],
      "source": [
        "inventory_object = cur.execute(\"SELECT * FROM RAMSI_LOADING.DIM_INVENTORYOBJECT\")\n",
        "data = cur.fetchall()\n",
        "cols = []\n",
        "for elt in cur.description:\n",
        "    cols.append(elt[0])\n",
        "df_dim_inventoryobject = pd.DataFrame(data=data, columns=cols) # Datafram Table DIM inventory object "
      ]
    },
    {
      "cell_type": "code",
      "execution_count": null,
      "id": "123d3834",
      "metadata": {
        "id": "123d3834"
      },
      "outputs": [],
      "source": [
        "df_dim_inventoryobject.to_csv('RAMSI_LOADING_DIM_INVENTORYOBJECT.csv',sep = ',', encoding='windows-1252') # write Datefram to csv file"
      ]
    },
    {
      "cell_type": "markdown",
      "id": "c7f4f178",
      "metadata": {
        "id": "c7f4f178"
      },
      "source": [
        "#### Table RAMSI_LOADING.DIM_INV"
      ]
    },
    {
      "cell_type": "code",
      "execution_count": null,
      "id": "aea00a7d",
      "metadata": {
        "id": "aea00a7d"
      },
      "outputs": [],
      "source": [
        "inv = cur.execute(\"SELECT * FROM RAMSI_LOADING.DIM_INV\")\n",
        "data = cur.fetchall()\n",
        "cols = []\n",
        "for elt in cur.description:\n",
        "    cols.append(elt[0])\n",
        "df_dim_inv = pd.DataFrame(data=data, columns=cols) # Datafram Table DIM inventory"
      ]
    },
    {
      "cell_type": "code",
      "execution_count": null,
      "id": "9301fdcd",
      "metadata": {
        "id": "9301fdcd"
      },
      "outputs": [],
      "source": [
        "df_dim_inv.to_csv('RAMSI_LOADING_DIM_INV.csv',sep = ',',encoding='windows-1252') # write Datefram to csv file"
      ]
    },
    {
      "cell_type": "markdown",
      "id": "e5386063",
      "metadata": {
        "id": "e5386063"
      },
      "source": [
        "#### Table RAMSI_LOADING.DIM_INV_AMDB_COMPONENT"
      ]
    },
    {
      "cell_type": "code",
      "execution_count": null,
      "id": "b16b7969",
      "metadata": {
        "id": "b16b7969"
      },
      "outputs": [],
      "source": [
        "inv_amdb_component =  cur.execute(\"SELECT * FROM RAMSI_LOADING.DIM_INV_AMDB_COMPONENT\")\n",
        "data = cur.fetchall()\n",
        "cols = []\n",
        "for elt in cur.description:\n",
        "    cols.append(elt[0])\n",
        "df_dim_inv_amdb_component = pd.DataFrame(data=data, columns=cols) # Datafram Table DIM component"
      ]
    },
    {
      "cell_type": "code",
      "execution_count": null,
      "id": "56a88b65",
      "metadata": {
        "id": "56a88b65"
      },
      "outputs": [],
      "source": [
        "df_dim_inv_amdb_component.to_csv('RAMSI_LOADING_DIM_INV_AMDB_COMPONENT.csv',sep = ',', encoding='windows-1252') # write Datefram to csv file"
      ]
    },
    {
      "cell_type": "markdown",
      "id": "15ae0adb",
      "metadata": {
        "id": "15ae0adb"
      },
      "source": [
        "#### Table RAMSI_LOADING.DIM_REASON"
      ]
    },
    {
      "cell_type": "code",
      "execution_count": null,
      "id": "e257e9cb",
      "metadata": {
        "id": "e257e9cb"
      },
      "outputs": [],
      "source": [
        "dim_reason = cur.execute(\"SELECT * FROM RAMSI_LOADING.DIM_REASON\")\n",
        "data = cur.fetchall()\n",
        "cols = []\n",
        "for elt in cur.description:\n",
        "    cols.append(elt[0])\n",
        "df_dim_reason = pd.DataFrame(data=data, columns=cols) # Datafram Table DIM inventory object "
      ]
    },
    {
      "cell_type": "code",
      "execution_count": null,
      "id": "d4604fe3",
      "metadata": {
        "id": "d4604fe3"
      },
      "outputs": [],
      "source": [
        "df_dim_reason.to_csv('RAMSI_LOADING_DIM_REASON.csv',sep = ',', encoding='windows-1252') # write Datefram to csv file"
      ]
    },
    {
      "cell_type": "markdown",
      "id": "6fc781be",
      "metadata": {
        "id": "6fc781be"
      },
      "source": [
        "#### Table RAMSI_LOADING.DIM_TECH_CONSEQ_1"
      ]
    },
    {
      "cell_type": "code",
      "execution_count": null,
      "id": "2932ca81",
      "metadata": {
        "id": "2932ca81"
      },
      "outputs": [],
      "source": [
        "dim_tech_conseq_1 = cur.execute(\"SELECT * FROM RAMSI_LOADING.DIM_TECH_CONSEQ_1\")\n",
        "data = cur.fetchall()\n",
        "cols = []\n",
        "for elt in cur.description:\n",
        "    cols.append(elt[0])\n",
        "df_dim_tech_conseq_1 = pd.DataFrame(data=data, columns=cols) # Datafram Table DIM technical consequence"
      ]
    },
    {
      "cell_type": "code",
      "execution_count": null,
      "id": "eafe0863",
      "metadata": {
        "id": "eafe0863"
      },
      "outputs": [],
      "source": [
        "df_dim_tech_conseq_1.to_csv('RAMSI_LOADING_DIM_TECH_CONSEQ_1.csv',sep = ',', encoding='windows-1252') # write Datefram to csv file"
      ]
    },
    {
      "cell_type": "markdown",
      "id": "b270f430",
      "metadata": {
        "id": "b270f430"
      },
      "source": [
        "#### Table RAMSI_LOADING.DIM_TECH_CONSEQ_2"
      ]
    },
    {
      "cell_type": "code",
      "execution_count": null,
      "id": "c813bc1f",
      "metadata": {
        "id": "c813bc1f"
      },
      "outputs": [],
      "source": [
        "dim_tech_conseq_2 = cur.execute(\"SELECT * FROM RAMSI_LOADING.DIM_TECH_CONSEQ_2\")\n",
        "data = cur.fetchall()\n",
        "cols = []\n",
        "for elt in cur.description:\n",
        "    cols.append(elt[0])\n",
        "df_dim_tech_conseq_2 = pd.DataFrame(data=data, columns=cols) # Datafram Table DIM technical consequence"
      ]
    },
    {
      "cell_type": "code",
      "execution_count": null,
      "id": "c820a6ca",
      "metadata": {
        "id": "c820a6ca"
      },
      "outputs": [],
      "source": [
        "df_dim_tech_conseq_2.to_csv('RAMSI_LOADING_DIM_TECH_CONSEQ_2.csv',sep = ',', encoding='windows-1252') # write Datefram to csv file"
      ]
    },
    {
      "cell_type": "markdown",
      "id": "5402f6dc",
      "metadata": {
        "id": "5402f6dc"
      },
      "source": [
        "#### Table RAMSI_LOADING.DIM_TECH_CONSEQ_3"
      ]
    },
    {
      "cell_type": "code",
      "execution_count": null,
      "id": "83aac615",
      "metadata": {
        "id": "83aac615"
      },
      "outputs": [],
      "source": [
        "dim_tech_conseq_3 = cur.execute(\"SELECT * FROM RAMSI_LOADING.DIM_TECH_CONSEQ_3\")\n",
        "data = cur.fetchall()\n",
        "cols = []\n",
        "for elt in cur.description:\n",
        "    cols.append(elt[0])\n",
        "df_dim_tech_conseq_3 = pd.DataFrame(data=data, columns=cols) # Datafram Table DIM technical consequence"
      ]
    },
    {
      "cell_type": "code",
      "execution_count": null,
      "id": "f00b1491",
      "metadata": {
        "id": "f00b1491"
      },
      "outputs": [],
      "source": [
        "df_dim_tech_conseq_3.to_csv('RAMSI_LOADING_DIM_TECH_CONSEQ_3.csv',sep = ',',encoding='windows-1252') # write Datefram to csv file"
      ]
    },
    {
      "cell_type": "markdown",
      "id": "3b2d3153",
      "metadata": {
        "id": "3b2d3153"
      },
      "source": [
        "#### Table RAMSI_LOADING.DIM_STELLWERK"
      ]
    },
    {
      "cell_type": "code",
      "execution_count": null,
      "id": "eda648a8",
      "metadata": {
        "id": "eda648a8"
      },
      "outputs": [],
      "source": [
        "dim_stellwerk = cur.execute(\"SELECT * FROM RAMSI_LOADING.DIM_STELLWERK\")\n",
        "data = cur.fetchall()\n",
        "cols = []\n",
        "for elt in cur.description:\n",
        "    cols.append(elt[0])\n",
        "df_dim_stellwerk = pd.DataFrame(data=data, columns=cols) # Datafram Table DIM Stellwerke"
      ]
    },
    {
      "cell_type": "code",
      "execution_count": null,
      "id": "24ec37df",
      "metadata": {
        "id": "24ec37df"
      },
      "outputs": [],
      "source": [
        "df_dim_stellwerk.to_csv('RAMSI_LOADING_DIM_STELLWERK.csv',sep = ',', encoding='windows-1252') # write Datefram to csv file"
      ]
    },
    {
      "cell_type": "markdown",
      "id": "daff7b97",
      "metadata": {
        "id": "daff7b97"
      },
      "source": [
        "#### Table RAMSI_LOADING.DIM_OPER_CONSEQ"
      ]
    },
    {
      "cell_type": "code",
      "execution_count": null,
      "id": "d5ca1379",
      "metadata": {
        "id": "d5ca1379"
      },
      "outputs": [],
      "source": [
        "dim_oper_conseq = cur.execute(\"SELECT * FROM RAMSI_LOADING.DIM_OPER_CONSEQ\")\n",
        "data = cur.fetchall()\n",
        "cols = []\n",
        "for elt in cur.description:\n",
        "    cols.append(elt[0])\n",
        "df_dim_oper_conseq = pd.DataFrame(data=data, columns=cols) # Datafram Table operational consequences"
      ]
    },
    {
      "cell_type": "code",
      "execution_count": null,
      "id": "edb691a6",
      "metadata": {
        "id": "edb691a6"
      },
      "outputs": [],
      "source": [
        "df_dim_oper_conseq.to_csv('RAMSI_LOADING_DIM_OPER_CONSEQ.csv',sep = ',', encoding='windows-1252') # write Datefram to csv file"
      ]
    },
    {
      "cell_type": "markdown",
      "id": "396d72db",
      "metadata": {
        "id": "396d72db"
      },
      "source": [
        "#### Table RAMSI_LOADING.DIM_MILESTONE_PRIORITY"
      ]
    },
    {
      "cell_type": "code",
      "execution_count": null,
      "id": "364335f1",
      "metadata": {
        "id": "364335f1"
      },
      "outputs": [],
      "source": [
        "dim_milestone_priority = cur.execute(\"SELECT * FROM RAMSI_LOADING.DIM_MILESTONE_PRIORITY\")\n",
        "data = cur.fetchall()\n",
        "cols = []\n",
        "for elt in cur.description:\n",
        "    cols.append(elt[0])\n",
        "df_dim_milestone_priority = pd.DataFrame(data=data, columns=cols) # Datafram Table DIM milstone priority"
      ]
    },
    {
      "cell_type": "code",
      "execution_count": null,
      "id": "bb1b5fd5",
      "metadata": {
        "id": "bb1b5fd5"
      },
      "outputs": [],
      "source": [
        "df_dim_milestone_priority.to_csv('RAMSI_LOADING_DIM_MILESTONE_PRIORITY.csv',sep = ',', encoding='windows-1252') # write Datefram to csv file"
      ]
    },
    {
      "cell_type": "markdown",
      "id": "910dc4a3",
      "metadata": {
        "id": "910dc4a3"
      },
      "source": [
        "#### Table RAMSI_LOADING.DIM_INSIDENT_TYPE"
      ]
    },
    {
      "cell_type": "code",
      "execution_count": null,
      "id": "7159141a",
      "metadata": {
        "id": "7159141a"
      },
      "outputs": [],
      "source": [
        "dim_incident_type = cur.execute(\"SELECT * FROM RAMSI_LOADING.DIM_INCIDENT_TYPE\")\n",
        "data = cur.fetchall()\n",
        "cols = []\n",
        "for elt in cur.description:\n",
        "    cols.append(elt[0])\n",
        "df_dim_incident_type = pd.DataFrame(data=data, columns=cols) # Datafram Table DIM incident type"
      ]
    },
    {
      "cell_type": "code",
      "execution_count": null,
      "id": "9bc625dc",
      "metadata": {
        "id": "9bc625dc"
      },
      "outputs": [],
      "source": [
        "df_dim_incident_type.to_csv('RAMSI_LOADING_DIM_INCIDENT_TYPE.csv',sep = ',',encoding='windows-1252') # write Datefram to csv file"
      ]
    },
    {
      "cell_type": "markdown",
      "id": "e7391f75",
      "metadata": {
        "id": "e7391f75"
      },
      "source": [
        "#### Table RAMSI_LOADING.DIM_LAST_ASSIGNING_OU"
      ]
    },
    {
      "cell_type": "code",
      "execution_count": null,
      "id": "3d3f669b",
      "metadata": {
        "id": "3d3f669b"
      },
      "outputs": [],
      "source": [
        "dim_assigning_ou = cur.execute(\"SELECT * FROM RAMSI_LOADING.DIM_LAST_ASSIGNING_OU\")\n",
        "data = cur.fetchall()\n",
        "cols = []\n",
        "for elt in cur.description:\n",
        "    cols.append(elt[0])\n",
        "df_dim_assigning_ou = pd.DataFrame(data=data, columns=cols) # Datafram Table DIM ASSIGNING"
      ]
    },
    {
      "cell_type": "code",
      "execution_count": null,
      "id": "6ddf3c67",
      "metadata": {
        "id": "6ddf3c67"
      },
      "outputs": [],
      "source": [
        "df_dim_assigning_ou.to_csv('RAMSI_LOADING_DIM_LAST_ASSIGNING_OU.csv',sep = ',', encoding='windows-1252') # write Datefram to csv file"
      ]
    },
    {
      "cell_type": "markdown",
      "id": "0f683f2f",
      "metadata": {
        "id": "0f683f2f"
      },
      "source": [
        "#### Table RAMSI_LOADING.DIM_ESI_CAUSE"
      ]
    },
    {
      "cell_type": "code",
      "execution_count": null,
      "id": "0bccd024",
      "metadata": {
        "id": "0bccd024"
      },
      "outputs": [],
      "source": [
        "dim_esi_cause = cur.execute(\"SELECT * FROM RAMSI_LOADING.DIM_ESI_CAUSE\")\n",
        "data = cur.fetchall()\n",
        "cols = []\n",
        "for elt in cur.description:\n",
        "    cols.append(elt[0])\n",
        "df_dim_esi_cause = pd.DataFrame(data=data, columns=cols) # Datafram Table DIM ESI CAUSE"
      ]
    },
    {
      "cell_type": "code",
      "execution_count": null,
      "id": "2670de5c",
      "metadata": {
        "id": "2670de5c"
      },
      "outputs": [],
      "source": [
        "df_dim_esi_cause.to_csv('RAMSI_LOADING_DIM_ESI_CAUSE.csv',sep = ',',encoding='windows-1252') # write Datefram to csv file"
      ]
    },
    {
      "cell_type": "code",
      "execution_count": null,
      "id": "0e8a1a9c",
      "metadata": {
        "id": "0e8a1a9c"
      },
      "outputs": [],
      "source": [
        ""
      ]
    },
    {
      "cell_type": "code",
      "execution_count": null,
      "id": "79978276",
      "metadata": {
        "id": "79978276"
      },
      "outputs": [],
      "source": [
        ""
      ]
    },
    {
      "cell_type": "code",
      "execution_count": null,
      "id": "8a1d92b4",
      "metadata": {
        "id": "8a1d92b4"
      },
      "outputs": [],
      "source": [
        ""
      ]
    },
    {
      "cell_type": "code",
      "execution_count": null,
      "id": "636c8da3",
      "metadata": {
        "id": "636c8da3"
      },
      "outputs": [],
      "source": [
        ""
      ]
    }
  ],
  "metadata": {
    "kernelspec": {
      "display_name": "Python 3 (ipykernel)",
      "language": "python",
      "name": "python3"
    },
    "language_info": {
      "codemirror_mode": {
        "name": "ipython",
        "version": 3
      },
      "file_extension": ".py",
      "mimetype": "text/x-python",
      "name": "python",
      "nbconvert_exporter": "python",
      "pygments_lexer": "ipython3",
      "version": "3.7.13"
    },
    "colab": {
      "name": "Table_export_RAMSI.ipynb",
      "provenance": [],
      "collapsed_sections": [
        "21935624",
        "d88f368b",
        "38d33ae9",
        "13c05061",
        "59faa02e",
        "b99bceb6",
        "4bdeecb7",
        "ac778a06",
        "a27e136d",
        "b45f28d2",
        "318d5fc5",
        "18fb0b29",
        "c7f4f178",
        "e5386063",
        "15ae0adb",
        "6fc781be",
        "b270f430",
        "5402f6dc",
        "3b2d3153",
        "daff7b97",
        "396d72db",
        "910dc4a3",
        "e7391f75",
        "0f683f2f"
      ],
      "include_colab_link": true
    }
  },
  "nbformat": 4,
  "nbformat_minor": 5
}